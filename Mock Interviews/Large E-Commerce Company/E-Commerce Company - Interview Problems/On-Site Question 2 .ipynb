{
 "cells": [
  {
   "cell_type": "markdown",
   "metadata": {},
   "source": [
    "# On-Site Question 2 \n",
    "\n",
    "## Problem\n",
    "\n",
    "** Given a list of integers, write a function that will return a list, in which for each index the element will be the product of all the integers except for the element at that index **\n",
    "\n",
    "**For example, an input of [1,2,3,4] would return [24,12,8,6] by performing [2×3×4,1×3×4,1×2×4,1×2×3] **\n",
    "\n",
    "## Requirements\n",
    "\n",
    "** You can not use division in your answer! Meaning you can't simply multiply all the numbers and then divide by eahc element for each index!**\n",
    "\n",
    "** Try to do this on a white board or with paper/pencil.**"
   ]
  },
  {
   "cell_type": "code",
   "execution_count": 61,
   "metadata": {},
   "outputs": [],
   "source": [
    "def product_integers(array):\n",
    "    \n",
    "    output = [None] * len(array)\n",
    "    \n",
    "    i = 0 \n",
    "    multiplier = 1 \n",
    "    \n",
    "    while i < len(array):\n",
    "        \n",
    "        output[i] = multiplier\n",
    "        \n",
    "        multiplier *= array[i]\n",
    "        \n",
    "        i += 1 \n",
    "    \n",
    "    multiplier = 1\n",
    "    i = len(array)-1\n",
    "    while i >= 0:\n",
    "        \n",
    "        output[i] = multiplier * output[i]\n",
    "        multiplier = array[i] * multiplier\n",
    "        i -= 1 \n",
    "        \n",
    "    return output "
   ]
  },
  {
   "cell_type": "code",
   "execution_count": 62,
   "metadata": {},
   "outputs": [
    {
     "name": "stdout",
     "output_type": "stream",
     "text": [
      "[24, 12, 8, 6]\n"
     ]
    }
   ],
   "source": [
    "print(product_integers([1,2,3,4]))\n"
   ]
  },
  {
   "cell_type": "markdown",
   "metadata": {},
   "source": [
    "# Good Luck!"
   ]
  },
  {
   "cell_type": "code",
   "execution_count": 27,
   "metadata": {},
   "outputs": [],
   "source": [
    "def product_integers(array):\n",
    "    \n",
    "    output = [None] * len(array)\n",
    "    \n",
    "    product = 1\n",
    "    i = 0\n",
    "    while i < len(array):\n",
    "        \n",
    "        output[i] = product\n",
    "        product *= array[i]\n",
    "        i += 1 \n",
    "        \n",
    "    print(output)\n",
    "    product = 1 \n",
    "    i = len(array)-1\n",
    "    \n",
    "    while i >= 0:\n",
    "        output[i] = product\n",
    "        product *= array[i]\n",
    "        i -= 1 \n",
    "    \n",
    "    return output\n"
   ]
  },
  {
   "cell_type": "code",
   "execution_count": 28,
   "metadata": {},
   "outputs": [
    {
     "name": "stdout",
     "output_type": "stream",
     "text": [
      "[1, 1, 2, 6]\n",
      "[24, 12, 4, 1]\n"
     ]
    }
   ],
   "source": [
    "print(product_integers([1,2,3,4]))"
   ]
  },
  {
   "cell_type": "code",
   "execution_count": null,
   "metadata": {},
   "outputs": [],
   "source": []
  }
 ],
 "metadata": {
  "kernelspec": {
   "display_name": "Python 3",
   "language": "python",
   "name": "python3"
  },
  "language_info": {
   "codemirror_mode": {
    "name": "ipython",
    "version": 3
   },
   "file_extension": ".py",
   "mimetype": "text/x-python",
   "name": "python",
   "nbconvert_exporter": "python",
   "pygments_lexer": "ipython3",
   "version": "3.8.5"
  }
 },
 "nbformat": 4,
 "nbformat_minor": 1
}
