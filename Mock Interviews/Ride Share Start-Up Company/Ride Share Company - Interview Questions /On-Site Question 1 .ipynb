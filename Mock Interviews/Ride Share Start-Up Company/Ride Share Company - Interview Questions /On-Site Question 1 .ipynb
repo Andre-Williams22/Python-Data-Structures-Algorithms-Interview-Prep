{
 "cells": [
  {
   "cell_type": "markdown",
   "metadata": {},
   "source": [
    "# On-Site Question 1 \n",
    "\n",
    "## Problem\n",
    "\n",
    "** Given a list of integers, find the largest product you could make from 3 integers in the list **\n",
    "\n",
    "## Requirements\n",
    "\n",
    "** You can assume that the list will always have at least 3 integers **\n",
    "\n",
    "** Paper/pencil only, don't code this out until you've solved it as far as you can by hand. **"
   ]
  },
  {
   "cell_type": "markdown",
   "metadata": {},
   "source": [
    "# Good Luck!"
   ]
  },
  {
   "cell_type": "code",
   "execution_count": 11,
   "metadata": {},
   "outputs": [],
   "source": [
    "def topThree(array):\n",
    "    \n",
    "    threeLargest = [None, None, None]\n",
    "    product = 1\n",
    "    \n",
    "    for num in array:\n",
    "        updateLargest(threeLargest, num)\n",
    "        \n",
    "    for num in threeLargest:\n",
    "        product *= num \n",
    "        \n",
    "    return product\n",
    "    \n",
    "def updateLargest(threeLargest, num):\n",
    "    \n",
    "    if threeLargest[2] is None or num > threeLargest[2]:\n",
    "        shiftUpdate(threeLargest, num, 2)\n",
    "    elif threeLargest[1] is None or num > threeLargest[1]:\n",
    "        shiftUpdate(threeLargest, num, 1)\n",
    "    elif threeLargest[0] is None or num > threeLargest[0]:\n",
    "        shiftUpdate(threeLargest, num, 0)\n",
    "        \n",
    "    \n",
    "def shiftUpdate(array, num, idx):\n",
    "    for i in range(idx + 1):\n",
    "        if i == idx:\n",
    "            array[i] = num\n",
    "        else:\n",
    "            array[i] = array[i + 1]"
   ]
  },
  {
   "cell_type": "code",
   "execution_count": 13,
   "metadata": {},
   "outputs": [
    {
     "name": "stdout",
     "output_type": "stream",
     "text": [
      "60\n"
     ]
    }
   ],
   "source": [
    "# l = [99,-82,82,40,75,-24,39, -82, 5, 30, -25, -94, 93, -23, 48, 50, 49,-81,41,63]\n",
    "l = [1, 2, 3, 4, 5]\n",
    "print(topThree(l))"
   ]
  },
  {
   "cell_type": "code",
   "execution_count": null,
   "metadata": {},
   "outputs": [],
   "source": []
  }
 ],
 "metadata": {
  "kernelspec": {
   "display_name": "Python 3",
   "language": "python",
   "name": "python3"
  },
  "language_info": {
   "codemirror_mode": {
    "name": "ipython",
    "version": 3
   },
   "file_extension": ".py",
   "mimetype": "text/x-python",
   "name": "python",
   "nbconvert_exporter": "python",
   "pygments_lexer": "ipython3",
   "version": "3.8.5"
  }
 },
 "nbformat": 4,
 "nbformat_minor": 1
}
