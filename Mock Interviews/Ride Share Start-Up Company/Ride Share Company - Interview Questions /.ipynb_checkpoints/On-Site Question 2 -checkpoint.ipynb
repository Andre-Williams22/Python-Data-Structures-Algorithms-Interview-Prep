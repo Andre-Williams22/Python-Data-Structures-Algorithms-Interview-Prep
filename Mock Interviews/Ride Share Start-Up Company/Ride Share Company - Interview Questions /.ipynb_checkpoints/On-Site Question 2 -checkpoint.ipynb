{
 "cells": [
  {
   "cell_type": "markdown",
   "metadata": {},
   "source": [
    "# On-Site Question 2 \n",
    "\n",
    "## Problem\n",
    "\n",
    "** Write a function that given a target amount of money and a list of possible coin denominations, returns the number of ways to make change for the target amount using the coin denominations**\n",
    "\n",
    "## Requirements\n",
    "\n",
    "** Write out your work on paper/pencil, then see if you can code up your solution **"
   ]
  },
  {
   "cell_type": "markdown",
   "metadata": {},
   "source": [
    "# Good Luck!"
   ]
  },
  {
   "cell_type": "code",
   "execution_count": 22,
   "metadata": {},
   "outputs": [],
   "source": [
    "def listSum(array, target):\n",
    "    \n",
    "    s = set()\n",
    "    nums = []\n",
    "    hashtable = {}\n",
    "    for item in array:\n",
    "        diff = target - item\n",
    "        tot = item + item \n",
    "        \n",
    "        if diff in hashtable:\n",
    "            nums.append([diff, item])\n",
    "        else:\n",
    "            hashtable[diff] = item \n",
    "     \n",
    "    \n",
    "    i = 0\n",
    "    while i < len(array)-1:\n",
    "        \n",
    "        \n",
    "        if array[i] + array[i+1] == target:\n",
    "            nums.append(array[i])\n",
    "            nums.append(array[i+1])\n",
    "            \n",
    "        i += 1 \n",
    "            \n",
    "        \n",
    "    return nums\n"
   ]
  },
  {
   "cell_type": "code",
   "execution_count": 23,
   "metadata": {},
   "outputs": [
    {
     "name": "stdout",
     "output_type": "stream",
     "text": [
      "[[5, 5], 5, 5]\n"
     ]
    }
   ],
   "source": [
    "l = [1, 2, 3, 4, 5, 5, 6]\n",
    "t = 10\n",
    "print(listSum(l, t))"
   ]
  },
  {
   "cell_type": "code",
   "execution_count": null,
   "metadata": {},
   "outputs": [],
   "source": []
  }
 ],
 "metadata": {
  "kernelspec": {
   "display_name": "Python 3",
   "language": "python",
   "name": "python3"
  },
  "language_info": {
   "codemirror_mode": {
    "name": "ipython",
    "version": 3
   },
   "file_extension": ".py",
   "mimetype": "text/x-python",
   "name": "python",
   "nbconvert_exporter": "python",
   "pygments_lexer": "ipython3",
   "version": "3.8.5"
  }
 },
 "nbformat": 4,
 "nbformat_minor": 1
}
