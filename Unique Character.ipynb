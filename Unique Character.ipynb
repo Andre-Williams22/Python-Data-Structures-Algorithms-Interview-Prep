{
 "cells": [
  {
   "cell_type": "code",
   "execution_count": 1,
   "metadata": {},
   "outputs": [],
   "source": [
    "l1 = [2, 3, 7, 10, 2, 3, 11]\n",
    "l2 = [10, 50, 20, 11, 20, 10, 90]"
   ]
  },
  {
   "cell_type": "code",
   "execution_count": 4,
   "metadata": {},
   "outputs": [],
   "source": [
    "def first_duplicate(array):\n",
    "    hashtable = {}\n",
    "    \n",
    "    for item in array:\n",
    "        if item in hashtable:\n",
    "            hashtable[item] += 1 \n",
    "        else:\n",
    "            \n",
    "            hashtable[item] = 1\n",
    "    \n",
    "    for item in hashtable:\n",
    "        if hashtable[item] > 1:\n",
    "            return item\n",
    "    \n",
    "    return -1 \n",
    "\n"
   ]
  },
  {
   "cell_type": "code",
   "execution_count": 5,
   "metadata": {},
   "outputs": [
    {
     "name": "stdout",
     "output_type": "stream",
     "text": [
      "2\n",
      "10\n"
     ]
    }
   ],
   "source": [
    "print(first_duplicate(l1))\n",
    "print(first_duplicate(l2))"
   ]
  },
  {
   "cell_type": "code",
   "execution_count": null,
   "metadata": {},
   "outputs": [],
   "source": []
  },
  {
   "cell_type": "code",
   "execution_count": null,
   "metadata": {},
   "outputs": [],
   "source": []
  },
  {
   "cell_type": "code",
   "execution_count": null,
   "metadata": {},
   "outputs": [],
   "source": []
  }
 ],
 "metadata": {
  "kernelspec": {
   "display_name": "Python 3",
   "language": "python",
   "name": "python3"
  },
  "language_info": {
   "codemirror_mode": {
    "name": "ipython",
    "version": 3
   },
   "file_extension": ".py",
   "mimetype": "text/x-python",
   "name": "python",
   "nbconvert_exporter": "python",
   "pygments_lexer": "ipython3",
   "version": "3.8.3"
  }
 },
 "nbformat": 4,
 "nbformat_minor": 4
}
